{
 "cells": [
  {
   "cell_type": "markdown",
   "metadata": {},
   "source": [
    "## N Queen Challenge Using Genetic Algorithm Approach\n",
    "\n",
    "### Problem Statement\n",
    "\n",
    "The challenge is to generate one right sequence through Genetic Programming. The sequence has to be 8 numbers between 0 to 7. Each number represents the positions the Queens can be placed. \n",
    "\n",
    "The goal of N-Queens Problem is to place N queens on an N x N chessboard, in a way so that no queen is in conflict with the others."
   ]
  },
  {
   "cell_type": "markdown",
   "metadata": {},
   "source": [
    "#### Step1. Calling out the dependencies to run the application"
   ]
  },
  {
   "cell_type": "code",
   "execution_count": 1,
   "metadata": {},
   "outputs": [],
   "source": [
    "import random \n",
    "import numpy as np \n",
    "import pandas as pd"
   ]
  },
  {
   "cell_type": "markdown",
   "metadata": {},
   "source": [
    "#### Step2. Function to generate the random population sequence"
   ]
  },
  {
   "cell_type": "code",
   "execution_count": 2,
   "metadata": {},
   "outputs": [
    {
     "name": "stdout",
     "output_type": "stream",
     "text": [
      "[7, 5, 6, 4, 0, 5, 3, 3]\n"
     ]
    }
   ],
   "source": [
    "def rand_chrm(tableSize): \n",
    "    \"\"\"\n",
    "    This method is used to create the random chromosome\n",
    "    which take number of queen i.e tablesize as an input agument\n",
    "    \"\"\"\n",
    "    return [ random.randint(0, (tableSize-1)) for i in range(tableSize) ]\n",
    "\n",
    "print(rand_chrm(8))"
   ]
  },
  {
   "cell_type": "markdown",
   "metadata": {},
   "source": [
    "#### Step3. Function to generate the population of queens"
   ]
  },
  {
   "cell_type": "code",
   "execution_count": 3,
   "metadata": {},
   "outputs": [
    {
     "name": "stdout",
     "output_type": "stream",
     "text": [
      "[[1, 3, 6, 4, 2, 0, 6, 4], [5, 3, 1, 0, 0, 5, 2, 2], [5, 5, 0, 1, 6, 5, 1, 0], [2, 1, 5, 6, 5, 7, 2, 0], [0, 4, 2, 2, 6, 7, 6, 3], [5, 4, 3, 6, 2, 1, 2, 4], [2, 7, 3, 0, 6, 1, 3, 2], [1, 1, 6, 7, 7, 3, 4, 6], [3, 0, 3, 6, 2, 7, 1, 3], [6, 5, 2, 3, 6, 7, 5, 2]]\n"
     ]
    }
   ],
   "source": [
    "def gen_pop(tableSize,totalPopulation):\n",
    "    \"\"\"\n",
    "    This method is used to generate the random population of \n",
    "    chromosomes which will be used as parent population for \n",
    "    the algorithm\n",
    "    \"\"\"\n",
    "    return [rand_chrm(tableSize) for x in range(totalPopulation)]\n",
    "\n",
    "print(gen_pop(8,10))"
   ]
  },
  {
   "cell_type": "markdown",
   "metadata": {},
   "source": [
    "#### Step4. Function to derive the fitness score of each specimen of the population"
   ]
  },
  {
   "cell_type": "code",
   "execution_count": 4,
   "metadata": {},
   "outputs": [
    {
     "name": "stdout",
     "output_type": "stream",
     "text": [
      "23\n"
     ]
    }
   ],
   "source": [
    "def fitness_cal(chromosome): \n",
    "    \"\"\"\n",
    "    It define the constraints to search for the optimum solution \n",
    "    and strike out the non performing sequential combination \n",
    "    \"\"\"\n",
    "    \n",
    "    \"\"\"\n",
    "    a. Horizontal collision constraints\n",
    "    \"\"\"\n",
    "    horizontal_collisions = sum([chromosome.count(q)-1 for q in chromosome])/2\n",
    "\n",
    "    n = len(chromosome)\n",
    "    left_diagonal = [0] * 2*n\n",
    "    right_diagonal = [0] * 2*n\n",
    "    for i in range(n):\n",
    "        left_diagonal[i + chromosome[i] - 1] += 1\n",
    "        right_diagonal[len(chromosome) - i + chromosome[i] - 2] += 1\n",
    "    \"\"\"\n",
    "    b. Diagonal collision constraints \n",
    "    \"\"\"\n",
    "    diagonal_collisions = 0\n",
    "    for i in range(2*n-1):\n",
    "        counter = 0\n",
    "        if left_diagonal[i] > 1:\n",
    "            counter += left_diagonal[i]-1\n",
    "        if right_diagonal[i] > 1:\n",
    "            counter += right_diagonal[i]-1\n",
    "        diagonal_collisions += counter / (n-abs(i-n+1))\n",
    "    maxFitness=(n*(n-1))/2\n",
    "    return int(maxFitness - (horizontal_collisions + diagonal_collisions))\n",
    "\n",
    "\n",
    "print(fitness_cal([1, 4, 7, 1, 5, 1, 4, 3]))"
   ]
  },
  {
   "cell_type": "markdown",
   "metadata": {},
   "source": [
    "#### Step5. To calculate the probability of the synthezised population to be the outcome"
   ]
  },
  {
   "cell_type": "code",
   "execution_count": 5,
   "metadata": {},
   "outputs": [
    {
     "name": "stdout",
     "output_type": "stream",
     "text": [
      "0.8928571428571429\n"
     ]
    }
   ],
   "source": [
    "def prob(chromosome, fitness_cal):\n",
    "    return fitness_cal(chromosome) / maxFitness \n",
    "\n",
    "maxFitness=28\n",
    "print(prob([1, 4, 6, 1, 5, 7, 4, 3], fitness_cal))"
   ]
  },
  {
   "cell_type": "markdown",
   "metadata": {},
   "source": [
    "#### Step6. Function of natural selection of the strongest parent for generative cycle "
   ]
  },
  {
   "cell_type": "code",
   "execution_count": 6,
   "metadata": {},
   "outputs": [
    {
     "name": "stdout",
     "output_type": "stream",
     "text": [
      "[7, 7, 6, 0, 7, 2, 1, 3]\n"
     ]
    }
   ],
   "source": [
    "def natural_selection(population, probabilities): \n",
    "    \"\"\"\n",
    "    to map the strength of the fitness score with the population\n",
    "    \"\"\"\n",
    "    populationWithProbabilty = zip(population, probabilities) \n",
    "    \"\"\"\n",
    "    algo to choose the parents with higher probalbility of success\n",
    "    \"\"\"\n",
    "    total = sum(w for c, w in populationWithProbabilty) \n",
    "    r = random.uniform(0, total) \n",
    "    upto = 0 \n",
    "    for c, w in zip(population, probabilities): \n",
    "        if upto + w >= r: \n",
    "            return c \n",
    "        upto += w \n",
    "    assert False, \"It Shouldn't be picked\"\n",
    "    \n",
    "print(natural_selection([[7, 7, 6, 0, 7, 2, 1, 3], [4, 7, 3, 6, 0, 1, 2, 5]],[0.6,0.7]))"
   ]
  },
  {
   "cell_type": "markdown",
   "metadata": {},
   "source": [
    "#### Step7. Function for performing the cross_over between two chromosomes"
   ]
  },
  {
   "cell_type": "code",
   "execution_count": 7,
   "metadata": {},
   "outputs": [
    {
     "name": "stdout",
     "output_type": "stream",
     "text": [
      "[1, 2, 6, 0, 1, 3, 5, 7]\n"
     ]
    }
   ],
   "source": [
    "def to_reproduce(x, y): \n",
    "    n = len(x) \n",
    "    c = random.randint(0, n - 1) \n",
    "    return x[0:c] + y[c:n]\n",
    "\n",
    "print(to_reproduce([1,2,3,4,5,6,7,0],[2,4,6,0,1,3,5,7]))"
   ]
  },
  {
   "cell_type": "markdown",
   "metadata": {},
   "source": [
    "#### Step8. function to randomly changing value of the random index for species of the population"
   ]
  },
  {
   "cell_type": "code",
   "execution_count": 8,
   "metadata": {},
   "outputs": [
    {
     "name": "stdout",
     "output_type": "stream",
     "text": [
      "[1, 2, 3, 4, 5, 6, 7, 4]\n"
     ]
    }
   ],
   "source": [
    "def to_mutate(x):\n",
    "    n = len(x) \n",
    "    c = random.randint(0, n - 1) \n",
    "    m = random.randint(1, n - 1) \n",
    "    x[c] = m\n",
    "    return x\n",
    "\n",
    "print(to_mutate([1,2,3,4,5,6,7,0]))"
   ]
  },
  {
   "cell_type": "markdown",
   "metadata": {},
   "source": [
    "#### Step9. Function to create the two new chromosomes from the best 2 chromosomes"
   ]
  },
  {
   "cell_type": "code",
   "execution_count": 9,
   "metadata": {},
   "outputs": [
    {
     "name": "stdout",
     "output_type": "stream",
     "text": [
      "[[2, 4, 6, 0, 1, 3, 5, 7], [2, 2, 3, 4, 5, 6, 7, 0]]\n"
     ]
    }
   ],
   "source": [
    "def genetic_computation(population, fitness_cal): \n",
    "    \"\"\"\n",
    "    This function is designed to create a new set of chromosomes from \n",
    "    the existing population in comparision with the targeted outcome \n",
    "    \"\"\"\n",
    "    mutation_probability = 0.03 \n",
    "    new_population = [] \n",
    "    probabilities = [ prob(chromosome, fitness_cal) for chromosome in population ] \n",
    "    for i in range(len(population)): \n",
    "        # best chromosome 1\n",
    "        x = natural_selection(population, probabilities)\n",
    "        # best chromosome 2\n",
    "        y = natural_selection(population, probabilities)  \n",
    "        child = to_reproduce(x, y) \n",
    "        if random.random() < mutation_probability: \n",
    "            child = to_mutate(child) \n",
    "        #print_chromosome(child) \n",
    "        new_population.append(child) \n",
    "        if fitness_cal(child) == maxFitness: break \n",
    "    return new_population\n",
    "\n",
    "# Printing the chromosomes\n",
    "def print_chromosome(chrom): \n",
    "    print(\"queenSequence = {}, Fitness = {}\" .format(str(chrom), fitness_cal(chrom)))\n",
    "    \n",
    "print(genetic_computation([[1,2,3,4,5,6,7,0],[2,4,6,0,1,3,5,7]], fitness_cal))"
   ]
  },
  {
   "cell_type": "markdown",
   "metadata": {},
   "source": [
    "### Step10: Final Excecution of the above defined function in the specific order with initatialization of variables: "
   ]
  },
  {
   "cell_type": "code",
   "execution_count": 10,
   "metadata": {},
   "outputs": [
    {
     "name": "stdout",
     "output_type": "stream",
     "text": [
      "~~~ Generation  1 ~~~~\n",
      "\n",
      "Maximum Fitness = 27\n",
      "~~~ Generation  2 ~~~~\n",
      "\n",
      "Maximum Fitness = 27\n",
      "~~~ Generation  3 ~~~~\n",
      "\n",
      "Maximum Fitness = 26\n",
      "~~~ Generation  4 ~~~~\n",
      "\n",
      "Maximum Fitness = 27\n",
      "~~~ Generation  5 ~~~~\n",
      "\n",
      "Maximum Fitness = 27\n",
      "~~~ Generation  6 ~~~~\n",
      "\n",
      "Maximum Fitness = 27\n",
      "~~~ Generation  7 ~~~~\n",
      "\n",
      "Maximum Fitness = 27\n",
      "~~~ Generation  8 ~~~~\n",
      "\n",
      "Maximum Fitness = 27\n",
      "~~~ Generation  9 ~~~~\n",
      "\n",
      "Maximum Fitness = 27\n",
      "~~~ Generation  10 ~~~~\n",
      "\n",
      "Maximum Fitness = 26\n",
      "~~~ Generation  11 ~~~~\n",
      "\n",
      "Maximum Fitness = 26\n",
      "~~~ Generation  12 ~~~~\n",
      "\n",
      "Maximum Fitness = 27\n",
      "~~~ Generation  13 ~~~~\n",
      "\n",
      "Maximum Fitness = 26\n",
      "~~~ Generation  14 ~~~~\n",
      "\n",
      "Maximum Fitness = 27\n",
      "~~~ Generation  15 ~~~~\n",
      "\n",
      "Maximum Fitness = 27\n",
      "~~~ Generation  16 ~~~~\n",
      "\n",
      "Maximum Fitness = 27\n",
      "~~~ Generation  17 ~~~~\n",
      "\n",
      "Maximum Fitness = 27\n",
      "~~~ Generation  18 ~~~~\n",
      "\n",
      "Maximum Fitness = 27\n",
      "~~~ Generation  19 ~~~~\n",
      "\n",
      "Maximum Fitness = 27\n",
      "~~~ Generation  20 ~~~~\n",
      "\n",
      "Maximum Fitness = 27\n",
      "~~~ Generation  21 ~~~~\n",
      "\n",
      "Maximum Fitness = 27\n",
      "~~~ Generation  22 ~~~~\n",
      "\n",
      "Maximum Fitness = 27\n",
      "~~~ Generation  23 ~~~~\n",
      "\n",
      "Maximum Fitness = 26\n",
      "~~~ Generation  24 ~~~~\n",
      "\n",
      "Maximum Fitness = 27\n",
      "~~~ Generation  25 ~~~~\n",
      "\n",
      "Maximum Fitness = 27\n",
      "~~~ Generation  26 ~~~~\n",
      "\n",
      "Maximum Fitness = 26\n",
      "~~~ Generation  27 ~~~~\n",
      "\n",
      "Maximum Fitness = 26\n",
      "~~~ Generation  28 ~~~~\n",
      "\n",
      "Maximum Fitness = 26\n",
      "~~~ Generation  29 ~~~~\n",
      "\n",
      "Maximum Fitness = 26\n",
      "~~~ Generation  30 ~~~~\n",
      "\n",
      "Maximum Fitness = 27\n",
      "~~~ Generation  31 ~~~~\n",
      "\n",
      "Maximum Fitness = 27\n",
      "~~~ Generation  32 ~~~~\n",
      "\n",
      "Maximum Fitness = 28\n",
      "Solved in Generation 32 ===\n",
      "\n",
      "One of the viable solutions: \n",
      "queenSequence = [3, 1, 4, 7, 5, 0, 2, 6], Fitness = 28\n"
     ]
    }
   ],
   "source": [
    "if __name__ == \"__main__\":\n",
    "    # defining the initial required var and derviation of constant values\n",
    "    tableSize=8\n",
    "    maxFitness = (tableSize*(tableSize-1))/2 \n",
    "    totalPopulation = 500\n",
    "    #population = [rand_chrm(tableSize) for x in range(totalPopulation)] \n",
    "    population = gen_pop(tableSize,totalPopulation)\n",
    "    generation_count = 1\n",
    "    \n",
    "    # running the solution untill finds the optimal solution \n",
    "    while not maxFitness in [ fitness_cal(chrom) for chrom in population]:\n",
    "        print(\"~~~ Generation  {} ~~~~\".format(generation_count))\n",
    "        population = genetic_computation(population, fitness_cal)\n",
    "        print(\"\")\n",
    "        print(\"Maximum Fitness = {}\".format(max([fitness_cal(n) for n in population])))\n",
    "        generation_count += 1\n",
    "       \n",
    "    chrom_out = []\n",
    "    print(\"Solved in Generation {} ===\".format(generation_count-1))\n",
    "    for chrom in population:\n",
    "        if fitness_cal(chrom) == maxFitness:\n",
    "            print(\"\");\n",
    "            print(\"One of the viable solutions: \")\n",
    "            chrom_out = chrom\n",
    "            print_chromosome(chrom)"
   ]
  },
  {
   "cell_type": "markdown",
   "metadata": {},
   "source": [
    "Iteration 1:\n",
    "One of the solutions: \n",
    "Chromosome = [1, 3, 5, 7, 2, 0, 6, 4], Fitness = 28\n",
    "\n",
    "Iteration 2:\n",
    "One of the viable solutions: \n",
    "queenSequence = [0, 4, 7, 5, 2, 6, 1, 3], Fitness = 28\n",
    "\n",
    "Iteration 3:\n",
    "One of the viable solutions: \n",
    "queenSequence = [3, 1, 4, 7, 5, 0, 2, 6], Fitness = 28"
   ]
  },
  {
   "cell_type": "code",
   "execution_count": 12,
   "metadata": {},
   "outputs": [
    {
     "name": "stdout",
     "output_type": "stream",
     "text": [
      "{\"No Of Attempts lapsed out of 3\": 3, \"submittedConfiguration\": [3, 1, 4, 7, 5, 0, 2, 6], \"configurationStatus\": \"Valid\", \"configurationScore\": 100.0}\n"
     ]
    }
   ],
   "source": [
    "import requests\n",
    "url='https://lf8q0kx152.execute-api.us-east-2.amazonaws.com/default/computeFitnessScore'\n",
    "x=requests.post(url,json={\"qconfig\":\"3 1 4 7 5 0 2 6\",\n",
    "                          \"userID\":334441,\n",
    "                          \"githubLink\":\"https://github.com/gkumar334441/NQueen_Python_Challenge/blob/master/NQueen_Python_Challenge.ipynb\"})\n",
    "print(x.text)"
   ]
  }
 ],
 "metadata": {
  "kernelspec": {
   "display_name": "Python 3",
   "language": "python",
   "name": "python3"
  },
  "language_info": {
   "codemirror_mode": {
    "name": "ipython",
    "version": 3
   },
   "file_extension": ".py",
   "mimetype": "text/x-python",
   "name": "python",
   "nbconvert_exporter": "python",
   "pygments_lexer": "ipython3",
   "version": "3.7.5"
  }
 },
 "nbformat": 4,
 "nbformat_minor": 2
}
